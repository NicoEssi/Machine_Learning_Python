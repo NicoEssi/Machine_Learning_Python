{
  "nbformat": 4,
  "nbformat_minor": 0,
  "metadata": {
    "colab": {
      "name": "Support_Vector_Regression_Demo.ipynb",
      "version": "0.3.2",
      "provenance": [],
      "include_colab_link": true
    },
    "kernelspec": {
      "name": "python3",
      "display_name": "Python 3"
    }
  },
  "cells": [
    {
      "cell_type": "markdown",
      "metadata": {
        "id": "view-in-github",
        "colab_type": "text"
      },
      "source": [
        "<a href=\"https://colab.research.google.com/github/NicoEssi/Machine_Learning_scikit-learn/blob/master/Support_Vector_Regression_Demo.ipynb\" target=\"_parent\"><img src=\"https://colab.research.google.com/assets/colab-badge.svg\" alt=\"Open In Colab\"/></a>"
      ]
    },
    {
      "cell_type": "markdown",
      "metadata": {
        "id": "OaakYpUbh_gk",
        "colab_type": "text"
      },
      "source": [
        "# Support Vector Regression - Demo\n",
        "\n",
        "\n",
        "---\n",
        "\n",
        "Separates data into two classes so that they are maximally apart. Suppose the data is linearly separable; what is the best line, i.e. with greatest margin, to separate them? \n",
        "\n",
        "While this may initially look like a classification algorithm (which is true! See the Support Vector Machine demo [here](https://github.com/NicoEssi/Machine_Learning_scikit-learn) for more on the classification implementation), this can also be used to do regression - as will be demonstrated in this jupyter notebook.\n",
        "\n",
        "![Image taken from Google; originally from DataCamp](http://res.cloudinary.com/dyd911kmh/image/upload/f_auto,q_auto:best/v1526288454/index2_ub1uzd.png)\n",
        "\n",
        "## Pros\n",
        "\n",
        "*   Easily adaptable\n",
        "*   Works very well on non-linear problems\n",
        "*   Not biased by outliers\n",
        "\n",
        "## Cons\n",
        "\n",
        "*   More difficult to understand/explain\n",
        "*   Feature scaling compulsary\n",
        "\n",
        "---"
      ]
    },
    {
      "cell_type": "markdown",
      "metadata": {
        "id": "ARhH00yhkWUV",
        "colab_type": "text"
      },
      "source": [
        "## 1. Import dependencies and data"
      ]
    },
    {
      "cell_type": "code",
      "metadata": {
        "id": "_AhNtkuRdwmS",
        "colab_type": "code",
        "colab": {},
        "cellView": "both"
      },
      "source": [
        "import pandas as pd\n",
        "import numpy as np\n",
        "import matplotlib.pyplot as plt\n",
        "\n",
        "!wget https://github.com/NicoEssi/Machine_Learning_scikit-learn/raw/master/Position_Salaries.csv"
      ],
      "execution_count": 0,
      "outputs": []
    },
    {
      "cell_type": "markdown",
      "metadata": {
        "id": "Q0zlsvX5kdU4",
        "colab_type": "text"
      },
      "source": [
        "## 2. Read CSV and inspect"
      ]
    },
    {
      "cell_type": "code",
      "metadata": {
        "id": "OvB8ahLRfeIJ",
        "colab_type": "code",
        "colab": {
          "base_uri": "https://localhost:8080/",
          "height": 204
        },
        "outputId": "cfd27c33-700e-4199-8ddd-a95c87cd30ef"
      },
      "source": [
        "data = pd.read_csv('Position_Salaries.csv')\n",
        "\n",
        "X = data.iloc[:, 1:2]\n",
        "y = data.iloc[:, 2]\n",
        "\n",
        "data.head()"
      ],
      "execution_count": 2,
      "outputs": [
        {
          "output_type": "execute_result",
          "data": {
            "text/html": [
              "<div>\n",
              "<style scoped>\n",
              "    .dataframe tbody tr th:only-of-type {\n",
              "        vertical-align: middle;\n",
              "    }\n",
              "\n",
              "    .dataframe tbody tr th {\n",
              "        vertical-align: top;\n",
              "    }\n",
              "\n",
              "    .dataframe thead th {\n",
              "        text-align: right;\n",
              "    }\n",
              "</style>\n",
              "<table border=\"1\" class=\"dataframe\">\n",
              "  <thead>\n",
              "    <tr style=\"text-align: right;\">\n",
              "      <th></th>\n",
              "      <th>Position</th>\n",
              "      <th>Level</th>\n",
              "      <th>Salary</th>\n",
              "    </tr>\n",
              "  </thead>\n",
              "  <tbody>\n",
              "    <tr>\n",
              "      <th>0</th>\n",
              "      <td>Business Analyst</td>\n",
              "      <td>1</td>\n",
              "      <td>45000</td>\n",
              "    </tr>\n",
              "    <tr>\n",
              "      <th>1</th>\n",
              "      <td>Junior Consultant</td>\n",
              "      <td>2</td>\n",
              "      <td>50000</td>\n",
              "    </tr>\n",
              "    <tr>\n",
              "      <th>2</th>\n",
              "      <td>Senior Consultant</td>\n",
              "      <td>3</td>\n",
              "      <td>60000</td>\n",
              "    </tr>\n",
              "    <tr>\n",
              "      <th>3</th>\n",
              "      <td>Manager</td>\n",
              "      <td>4</td>\n",
              "      <td>80000</td>\n",
              "    </tr>\n",
              "    <tr>\n",
              "      <th>4</th>\n",
              "      <td>Country Manager</td>\n",
              "      <td>5</td>\n",
              "      <td>110000</td>\n",
              "    </tr>\n",
              "  </tbody>\n",
              "</table>\n",
              "</div>"
            ],
            "text/plain": [
              "            Position  Level  Salary\n",
              "0   Business Analyst      1   45000\n",
              "1  Junior Consultant      2   50000\n",
              "2  Senior Consultant      3   60000\n",
              "3            Manager      4   80000\n",
              "4    Country Manager      5  110000"
            ]
          },
          "metadata": {
            "tags": []
          },
          "execution_count": 2
        }
      ]
    },
    {
      "cell_type": "markdown",
      "metadata": {
        "id": "jWWZ3iClkqak",
        "colab_type": "text"
      },
      "source": [
        "## 3. Feature scaling"
      ]
    },
    {
      "cell_type": "code",
      "metadata": {
        "id": "9pTL1EacBMRS",
        "colab_type": "code",
        "colab": {}
      },
      "source": [
        "from sklearn.preprocessing import StandardScaler\n",
        "\n",
        "sc_X = StandardScaler()\n",
        "sc_y = StandardScaler()\n",
        "\n",
        "X = sc_X.fit_transform(X)\n",
        "y = sc_y.fit_transform(y.values.reshape(-1,1))"
      ],
      "execution_count": 0,
      "outputs": []
    },
    {
      "cell_type": "markdown",
      "metadata": {
        "id": "Tn8IGg1ZBkAN",
        "colab_type": "text"
      },
      "source": [
        "## 4. Initialize and fit the SVR model"
      ]
    },
    {
      "cell_type": "code",
      "metadata": {
        "id": "OQHMAwxuBMul",
        "colab_type": "code",
        "colab": {}
      },
      "source": [
        "from sklearn.svm import SVR\n",
        "\n",
        "regressor = SVR(kernel = 'rbf')\n",
        "regressor.fit(X, y)"
      ],
      "execution_count": 0,
      "outputs": []
    },
    {
      "cell_type": "markdown",
      "metadata": {
        "id": "z008prDRCI8e",
        "colab_type": "text"
      },
      "source": [
        "## 5. Prediction with the trained model"
      ]
    },
    {
      "cell_type": "code",
      "metadata": {
        "id": "9B35leWZBNEX",
        "colab_type": "code",
        "colab": {}
      },
      "source": [
        "y_pred = regressor.predict(sc_X.transform(np.array([6.5]).reshape(1,-1)))\n",
        "y_pred = sc_y.inverse_transform(y_pred)"
      ],
      "execution_count": 0,
      "outputs": []
    },
    {
      "cell_type": "markdown",
      "metadata": {
        "id": "TZzxZErHIgjF",
        "colab_type": "text"
      },
      "source": [
        "## 6. Result visualization"
      ]
    },
    {
      "cell_type": "code",
      "metadata": {
        "id": "5ZnkVfdYHrCg",
        "colab_type": "code",
        "colab": {
          "base_uri": "https://localhost:8080/",
          "height": 295
        },
        "outputId": "cfc5c501-6396-4d4d-dcd2-31d70f1a4cb4"
      },
      "source": [
        "plt.scatter(X, y, color = 'red')\n",
        "plt.plot(X, regressor.predict(X), color = 'blue')\n",
        "plt.title('(SVR)')\n",
        "plt.xlabel('Position level')\n",
        "plt.ylabel('Salary')\n",
        "plt.show()"
      ],
      "execution_count": 8,
      "outputs": [
        {
          "output_type": "display_data",
          "data": {
            "image/png": "[encoded data removed]",
            "text/plain": [
              "<Figure size 432x288 with 1 Axes>"
            ]
          },
          "metadata": {
            "tags": []
          }
        }
      ]
    }
  ]
}