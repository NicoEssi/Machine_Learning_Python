{
  "nbformat": 4,
  "nbformat_minor": 0,
  "metadata": {
    "colab": {
      "name": "Random_Forest_Regression_Demo.ipynb",
      "version": "0.3.2",
      "provenance": [],
      "include_colab_link": true
    },
    "kernelspec": {
      "name": "python3",
      "display_name": "Python 3"
    }
  },
  "cells": [
    {
      "cell_type": "markdown",
      "metadata": {
        "id": "view-in-github",
        "colab_type": "text"
      },
      "source": [
        "<a href=\"https://colab.research.google.com/github/NicoEssi/Machine_Learning_scikit-learn/blob/master/Random_Forest_Regression_Demo.ipynb\" target=\"_parent\"><img src=\"https://colab.research.google.com/assets/colab-badge.svg\" alt=\"Open In Colab\"/></a>"
      ]
    },
    {
      "cell_type": "markdown",
      "metadata": {
        "id": "OaakYpUbh_gk",
        "colab_type": "text"
      },
      "source": [
        "# Random Forest Regression - Demo\n",
        "\n",
        "\n",
        "---\n",
        "\n",
        "Utilizies an ensemble of decision trees to make predictions, then averages the outputs of each decision tree to give a final output that is more accurate than an individual decision tree and gives some controls for overfitting.\n",
        "\n",
        "## Pros\n",
        "\n",
        "*   Powerful and accurate results\n",
        "*   Good performance on linear- & non-linear problems\n",
        "\n",
        "## Cons\n",
        "\n",
        "*   No interpretability\n",
        "*   Easily overfits\n",
        "*   Need to choose arbitrary number of decision trees\n",
        "\n",
        "---"
      ]
    },
    {
      "cell_type": "markdown",
      "metadata": {
        "id": "ARhH00yhkWUV",
        "colab_type": "text"
      },
      "source": [
        "## 1. Import dependencies and data"
      ]
    },
    {
      "cell_type": "code",
      "metadata": {
        "id": "_AhNtkuRdwmS",
        "colab_type": "code",
        "outputId": "dcb9acb9-f322-4fb3-8f93-7f505772830f",
        "cellView": "both",
        "colab": {
          "base_uri": "https://localhost:8080/",
          "height": 289
        }
      },
      "source": [
        "import pandas as pd\n",
        "import numpy as np\n",
        "import matplotlib.pyplot as plt\n",
        "\n",
        "!wget https://github.com/NicoEssi/Machine_Learning_scikit-learn/raw/master/Position_Salaries.csv"
      ],
      "execution_count": 1,
      "outputs": [
        {
          "output_type": "stream",
          "text": [
            "--2019-08-23 21:24:10--  https://github.com/NicoEssi/Machine_Learning_scikit-learn/raw/master/Position_Salaries.csv\n",
            "Resolving github.com (github.com)... 140.82.113.3\n",
            "Connecting to github.com (github.com)|140.82.113.3|:443... connected.\n",
            "HTTP request sent, awaiting response... 302 Found\n",
            "Location: https://raw.githubusercontent.com/NicoEssi/Machine_Learning_scikit-learn/master/Position_Salaries.csv [following]\n",
            "--2019-08-23 21:24:10--  https://raw.githubusercontent.com/NicoEssi/Machine_Learning_scikit-learn/master/Position_Salaries.csv\n",
            "Resolving raw.githubusercontent.com (raw.githubusercontent.com)... 151.101.0.133, 151.101.64.133, 151.101.128.133, ...\n",
            "Connecting to raw.githubusercontent.com (raw.githubusercontent.com)|151.101.0.133|:443... connected.\n",
            "HTTP request sent, awaiting response... 200 OK\n",
            "Length: 246 [text/plain]\n",
            "Saving to: ‘Position_Salaries.csv’\n",
            "\n",
            "\rPosition_Salaries.c   0%[                    ]       0  --.-KB/s               \rPosition_Salaries.c 100%[===================>]     246  --.-KB/s    in 0s      \n",
            "\n",
            "2019-08-23 21:24:10 (37.0 MB/s) - ‘Position_Salaries.csv’ saved [246/246]\n",
            "\n"
          ],
          "name": "stdout"
        }
      ]
    },
    {
      "cell_type": "markdown",
      "metadata": {
        "id": "Q0zlsvX5kdU4",
        "colab_type": "text"
      },
      "source": [
        "## 2. Read CSV and inspect"
      ]
    },
    {
      "cell_type": "code",
      "metadata": {
        "id": "OvB8ahLRfeIJ",
        "colab_type": "code",
        "outputId": "2bc24325-62e7-45b5-8f97-5a445200db10",
        "colab": {
          "base_uri": "https://localhost:8080/",
          "height": 204
        }
      },
      "source": [
        "data = pd.read_csv('Position_Salaries.csv')\n",
        "\n",
        "X = data.iloc[:, 1:2].values\n",
        "y = data.iloc[:, 2].values\n",
        "\n",
        "data.head()"
      ],
      "execution_count": 2,
      "outputs": [
        {
          "output_type": "execute_result",
          "data": {
            "text/html": [
              "<div>\n",
              "<style scoped>\n",
              "    .dataframe tbody tr th:only-of-type {\n",
              "        vertical-align: middle;\n",
              "    }\n",
              "\n",
              "    .dataframe tbody tr th {\n",
              "        vertical-align: top;\n",
              "    }\n",
              "\n",
              "    .dataframe thead th {\n",
              "        text-align: right;\n",
              "    }\n",
              "</style>\n",
              "<table border=\"1\" class=\"dataframe\">\n",
              "  <thead>\n",
              "    <tr style=\"text-align: right;\">\n",
              "      <th></th>\n",
              "      <th>Position</th>\n",
              "      <th>Level</th>\n",
              "      <th>Salary</th>\n",
              "    </tr>\n",
              "  </thead>\n",
              "  <tbody>\n",
              "    <tr>\n",
              "      <th>0</th>\n",
              "      <td>Business Analyst</td>\n",
              "      <td>1</td>\n",
              "      <td>45000</td>\n",
              "    </tr>\n",
              "    <tr>\n",
              "      <th>1</th>\n",
              "      <td>Junior Consultant</td>\n",
              "      <td>2</td>\n",
              "      <td>50000</td>\n",
              "    </tr>\n",
              "    <tr>\n",
              "      <th>2</th>\n",
              "      <td>Senior Consultant</td>\n",
              "      <td>3</td>\n",
              "      <td>60000</td>\n",
              "    </tr>\n",
              "    <tr>\n",
              "      <th>3</th>\n",
              "      <td>Manager</td>\n",
              "      <td>4</td>\n",
              "      <td>80000</td>\n",
              "    </tr>\n",
              "    <tr>\n",
              "      <th>4</th>\n",
              "      <td>Country Manager</td>\n",
              "      <td>5</td>\n",
              "      <td>110000</td>\n",
              "    </tr>\n",
              "  </tbody>\n",
              "</table>\n",
              "</div>"
            ],
            "text/plain": [
              "            Position  Level  Salary\n",
              "0   Business Analyst      1   45000\n",
              "1  Junior Consultant      2   50000\n",
              "2  Senior Consultant      3   60000\n",
              "3            Manager      4   80000\n",
              "4    Country Manager      5  110000"
            ]
          },
          "metadata": {
            "tags": []
          },
          "execution_count": 2
        }
      ]
    },
    {
      "cell_type": "markdown",
      "metadata": {
        "id": "Wf1ziV3WXHEm",
        "colab_type": "text"
      },
      "source": [
        "## 3. Initialize and fit Random Forest model"
      ]
    },
    {
      "cell_type": "code",
      "metadata": {
        "id": "lSLmXJPqWHag",
        "colab_type": "code",
        "colab": {
          "base_uri": "https://localhost:8080/",
          "height": 136
        },
        "outputId": "29006a7a-c701-4171-be01-cc850a4bd2cb"
      },
      "source": [
        "from sklearn.ensemble import RandomForestRegressor\n",
        "\n",
        "regressor = RandomForestRegressor(n_estimators = 337)\n",
        "regressor.fit(X, y)"
      ],
      "execution_count": 3,
      "outputs": [
        {
          "output_type": "execute_result",
          "data": {
            "text/plain": [
              "RandomForestRegressor(bootstrap=True, criterion='mse', max_depth=None,\n",
              "                      max_features='auto', max_leaf_nodes=None,\n",
              "                      min_impurity_decrease=0.0, min_impurity_split=None,\n",
              "                      min_samples_leaf=1, min_samples_split=2,\n",
              "                      min_weight_fraction_leaf=0.0, n_estimators=337,\n",
              "                      n_jobs=None, oob_score=False, random_state=None,\n",
              "                      verbose=0, warm_start=False)"
            ]
          },
          "metadata": {
            "tags": []
          },
          "execution_count": 3
        }
      ]
    },
    {
      "cell_type": "markdown",
      "metadata": {
        "id": "TH9b_GvnXLnj",
        "colab_type": "text"
      },
      "source": [
        "## 4. Predict with the trained model"
      ]
    },
    {
      "cell_type": "code",
      "metadata": {
        "id": "lJRMVrblWH72",
        "colab_type": "code",
        "colab": {
          "base_uri": "https://localhost:8080/",
          "height": 34
        },
        "outputId": "6c6952d4-c579-4fe6-affc-8a771920497d"
      },
      "source": [
        "y_pred = regressor.predict(np.array([[6.5]]))\n",
        "\n",
        "y_pred"
      ],
      "execution_count": 4,
      "outputs": [
        {
          "output_type": "execute_result",
          "data": {
            "text/plain": [
              "array([158694.3620178])"
            ]
          },
          "metadata": {
            "tags": []
          },
          "execution_count": 4
        }
      ]
    },
    {
      "cell_type": "markdown",
      "metadata": {
        "id": "2o88m2f0XQsE",
        "colab_type": "text"
      },
      "source": [
        "## 5. Visualization"
      ]
    },
    {
      "cell_type": "code",
      "metadata": {
        "id": "UbtOWIpLWIo5",
        "colab_type": "code",
        "colab": {
          "base_uri": "https://localhost:8080/",
          "height": 295
        },
        "outputId": "3d91064f-d315-4d57-be51-bb73c0c26ce5"
      },
      "source": [
        "X_grid = np.arange(min(X), max(X), 0.01)\n",
        "X_grid = X_grid.reshape((len(X_grid), 1))\n",
        "plt.scatter(X, y, color = 'green')\n",
        "plt.plot(X_grid, regressor.predict(X_grid), color = 'blue')\n",
        "plt.title('Salary : Position')\n",
        "plt.xlabel('Position level')\n",
        "plt.ylabel('Salary')\n",
        "plt.show()"
      ],
      "execution_count": 5,
      "outputs": [
        {
          "output_type": "display_data",
          "data": {
            "image/png": "[encoded data removed]",
            "text/plain": [
              "<Figure size 432x288 with 1 Axes>"
            ]
          },
          "metadata": {
            "tags": []
          }
        }
      ]
    }
  ]
}